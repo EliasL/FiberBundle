{
 "cells": [
  {
   "cell_type": "code",
   "execution_count": null,
   "metadata": {},
   "outputs": [],
   "source": [
    "using Interact, Plots\n",
    "## Interact.WebIO.install_jupyter_nbextension() # might be helpful if you see `WebIO` warnings in Jupyter\n",
    "@manipulate throttle=.05 for λ=0:.1:5, μ=0:.1:5\n",
    "    xs = range(0.0, 1.0, length = 100)\n",
    "    Plots.plot(xs, x -> λ*x^2 + μ)\n",
    "end"
   ]
  }
 ],
 "metadata": {
  "language_info": {
   "name": "python"
  },
  "orig_nbformat": 4
 },
 "nbformat": 4,
 "nbformat_minor": 2
}
